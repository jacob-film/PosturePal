{
 "cells": [
  {
   "cell_type": "code",
   "execution_count": 1,
   "id": "a816ebd3-5048-490f-a343-410a4a219d23",
   "metadata": {},
   "outputs": [],
   "source": [
    "import numpy as np\n",
    "import cv2\n",
    "import argparse\n",
    "import time\n",
    "import math\n",
    "import os\n",
    "import sys"
   ]
  },
  {
   "cell_type": "code",
   "execution_count": 6,
   "id": "07e7e64f-46fe-409b-8aef-d0095ad16c08",
   "metadata": {},
   "outputs": [
    {
     "data": {
      "text/plain": [
       "-1"
      ]
     },
     "execution_count": 6,
     "metadata": {},
     "output_type": "execute_result"
    }
   ],
   "source": [
    "# capture.release() \n",
    "# # Destroy all the windows \n",
    "# cv2.destroyAllWindows()\n",
    "# cv2.waitKey(1)"
   ]
  },
  {
   "cell_type": "markdown",
   "id": "8466d0bd-a2da-4a5c-81ee-9ae9c2f877ad",
   "metadata": {},
   "source": [
    "## Import Images"
   ]
  },
  {
   "cell_type": "code",
   "execution_count": 2,
   "id": "540343c5-53a1-4891-91d8-a42489e4da2c",
   "metadata": {},
   "outputs": [],
   "source": [
    "# Import Images\n",
    "\n",
    "try:\n",
    "    goal = cv2.imread(\"posture_goal.jpg\")\n",
    "    \n",
    "except IOError:\n",
    "    pass"
   ]
  },
  {
   "cell_type": "markdown",
   "id": "712fcca6-43fa-46bf-a92f-9aa66210628d",
   "metadata": {},
   "source": [
    "## Convert to Grayscale:"
   ]
  },
  {
   "cell_type": "code",
   "execution_count": 12,
   "id": "d5976b01-3928-4506-a75f-b2f818343949",
   "metadata": {},
   "outputs": [
    {
     "data": {
      "text/plain": [
       "-1"
      ]
     },
     "execution_count": 12,
     "metadata": {},
     "output_type": "execute_result"
    }
   ],
   "source": [
    "goal_gray = cv2.cvtColor(goal,cv2.COLOR_BGR2GRAY)\n",
    "cv2.imshow('Gray Goal', goal_gray)\n",
    "cv2.waitKey(2000)\n",
    "cv2.destroyAllWindows()\n",
    "cv2.waitKey(1)"
   ]
  },
  {
   "cell_type": "markdown",
   "id": "831f4449-2c29-4988-b4df-c9d610d36c29",
   "metadata": {},
   "source": [
    "## Compare"
   ]
  },
  {
   "cell_type": "code",
   "execution_count": 13,
   "id": "a06d91b5-fc02-49f2-9c4d-6aa3f293d8c6",
   "metadata": {},
   "outputs": [
    {
     "data": {
      "text/plain": [
       "-1"
      ]
     },
     "execution_count": 13,
     "metadata": {},
     "output_type": "execute_result"
    }
   ],
   "source": [
    "capture = cv2.VideoCapture(0)\n",
    "\n",
    "if not capture.isOpened():\n",
    "    print(\"Unable to open the webcam :(\")\n",
    "    sys.exit(0)\n",
    "\n",
    "cv2.waitKey(1000)\n",
    "ret, frame = capture.read()\n",
    "frame_gray = cv2.cvtColor(frame,cv2.COLOR_BGR2GRAY)\n",
    "\n",
    "cv2.imshow('Video Feed', frame_gray)\n",
    "cv2.waitKey(2000)\n",
    "\n",
    "capture.release() \n",
    "# Destroy all the windows \n",
    "cv2.destroyAllWindows()\n",
    "cv2.waitKey(1)\n"
   ]
  },
  {
   "cell_type": "code",
   "execution_count": 20,
   "id": "833a8460-4074-470f-9a77-15805cfa2af2",
   "metadata": {},
   "outputs": [
    {
     "data": {
      "text/plain": [
       "-1"
      ]
     },
     "execution_count": 20,
     "metadata": {},
     "output_type": "execute_result"
    }
   ],
   "source": [
    "diff = goal_gray - frame_gray\n",
    "\n",
    "cv2.imshow('Difference', diff)\n",
    "cv2.waitKey(0)\n",
    "\n",
    "cv2.destroyAllWindows()\n",
    "cv2.waitKey(1)\n",
    "\n",
    "ret, diff_thresh = cv2.threshold(diff,127,255,cv2.THRESH_BINARY)\n",
    "\n",
    "cv2.imshow('Thresholded Difference', diff_thresh)\n",
    "cv2.waitKey(0)\n",
    "\n",
    "cv2.destroyAllWindows()\n",
    "cv2.waitKey(1)\n"
   ]
  },
  {
   "cell_type": "code",
   "execution_count": 14,
   "id": "129ac7ba-b891-4c57-b749-df14945a988f",
   "metadata": {},
   "outputs": [
    {
     "data": {
      "text/plain": [
       "-1"
      ]
     },
     "execution_count": 14,
     "metadata": {},
     "output_type": "execute_result"
    }
   ],
   "source": [
    "cv2.imshow('Capture', frame_gray)\n",
    "cv2.waitKey(2000)\n",
    "\n",
    "cv2.destroyAllWindows()\n",
    "cv2.waitKey(1)"
   ]
  },
  {
   "cell_type": "markdown",
   "id": "610895a1-aea0-4c04-be40-ee340dad150e",
   "metadata": {},
   "source": [
    "## Run Video Feed - Press Key to take Snapshot and Display Countdown"
   ]
  },
  {
   "cell_type": "code",
   "execution_count": 7,
   "id": "ab800647-358e-4c1a-9f41-2a57a993d604",
   "metadata": {},
   "outputs": [],
   "source": [
    "def Snapshot(filename):\n",
    "    \n",
    "    # capture video stream\n",
    "    capture = cv2.VideoCapture(0)\n",
    "\n",
    "    if not capture.isOpened():\n",
    "        print(\"Unable to open the webcam :(\")\n",
    "        sys.exit(0)\n",
    "\n",
    "\n",
    "    # create Window and move to Right Screen\n",
    "    cv2.namedWindow('Video Feed')\n",
    "    cv2.moveWindow('Video Feed', 2000, 50)\n",
    "    cv2.waitKey(1)\n",
    "    \n",
    "    while True:\n",
    "        \n",
    "        ret, frame = capture.read()\n",
    "    \n",
    "        cv2.imshow('Video Feed', frame)\n",
    "        # cv2.moveWindow('Video Feed', 4000, 100)\n",
    "    \n",
    "        key = cv2.pollKey()\n",
    "    \n",
    "        if key < 0:\n",
    "            pass\n",
    "    \n",
    "        elif chr(key) == 's':\n",
    "            print('You want a snapshot!')\n",
    "    \n",
    "            i = 3000\n",
    "            count = 3\n",
    "    \n",
    "            # inner loop to countdown to snapshot\n",
    "            while True:\n",
    "    \n",
    "                ret, frame = capture.read() # grab still image from video feed\n",
    "    \n",
    "                # modify with rectangle and countdown box\n",
    "                countdown = cv2.rectangle(frame, (15, 15), (150, 150), (255, 255, 255), -1)\n",
    "                countdown = cv2.putText(frame, str(count), (40, 125), cv2.FONT_HERSHEY_SIMPLEX, 4, (0, 0, 0), 3)\n",
    "    \n",
    "                # Eventually should use an actual time element to track timing\n",
    "                # Experiencing issues with slowdown - processing speed?\n",
    "                \n",
    "                if i > 1:\n",
    "                    cv2.imshow('Video Feed', countdown)\n",
    "                    cv2.waitKey(50)\n",
    "                    i = i-75\n",
    "                    count = math.ceil(i/1000)\n",
    "                    pass\n",
    "                    \n",
    "                # cv2.imshow('Video Feed', countdown)\n",
    "\n",
    "                # cv2.waitKey(3500)\n",
    "    \n",
    "                else:\n",
    "                    cv2.imshow('Video Feed', countdown)\n",
    "                    cv2.waitKey(3000)\n",
    "                    name = str(filename + \".jpg\")\n",
    "                    directory = r'/Users/jacob/Documents/PosturePal/Python/Snapshots'\n",
    "                    os.chdir(directory)\n",
    "                    cv2.imwrite(name, frame)\n",
    "                    break\n",
    "\n",
    "            break\n",
    "    \n",
    "        elif key > 0:\n",
    "            print(\"Program exited \\n\")\n",
    "            \n",
    "            print(\"You typed: \")\n",
    "            print(chr(key))\n",
    "    \n",
    "            print(\"\\nThat corresponds to a key value of: \")\n",
    "            print(key)\n",
    "    \n",
    "            break\n",
    "    \n",
    "    # After the loop release the cap object \n",
    "    capture.release() \n",
    "    # Destroy all the windows \n",
    "    cv2.destroyAllWindows()\n",
    "    cv2.waitKey(1)"
   ]
  },
  {
   "cell_type": "code",
   "execution_count": 8,
   "id": "b0a749ea-14f6-458a-940d-2e61e64fe77c",
   "metadata": {},
   "outputs": [
    {
     "name": "stdout",
     "output_type": "stream",
     "text": [
      "Program exited \n",
      "\n",
      "You typed: \n",
      "q\n",
      "\n",
      "That corresponds to a key value of: \n",
      "113\n"
     ]
    }
   ],
   "source": [
    "Snapshot(\"New_Photo_1\")"
   ]
  }
 ],
 "metadata": {
  "kernelspec": {
   "display_name": "PP1.0",
   "language": "python",
   "name": "pp1.0"
  },
  "language_info": {
   "codemirror_mode": {
    "name": "ipython",
    "version": 3
   },
   "file_extension": ".py",
   "mimetype": "text/x-python",
   "name": "python",
   "nbconvert_exporter": "python",
   "pygments_lexer": "ipython3",
   "version": "3.11.8"
  }
 },
 "nbformat": 4,
 "nbformat_minor": 5
}
