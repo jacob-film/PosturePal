{
 "cells": [
  {
   "cell_type": "markdown",
   "id": "fe34e474-8dc3-4d31-a224-0152d9f218f3",
   "metadata": {},
   "source": [
    "# Background Subtraction"
   ]
  },
  {
   "cell_type": "markdown",
   "id": "11227ac3-6003-4226-bf2b-fae7201cfbca",
   "metadata": {},
   "source": [
    "Source: OpenCV Github\n",
    "https://github.com/opencv/opencv/blob/4.x/samples/python/tutorial_code/video/background_subtraction/bg_sub.py"
   ]
  },
  {
   "cell_type": "code",
   "execution_count": 2,
   "id": "1bd3e8b8-dcf5-49cf-83cd-9beea05a549f",
   "metadata": {},
   "outputs": [],
   "source": [
    "from __future__ import print_function\n",
    "import cv2 as cv\n",
    "import argparse"
   ]
  },
  {
   "cell_type": "code",
   "execution_count": 3,
   "id": "d91bdb8a-f4e9-4e16-a33d-df7f63d09792",
   "metadata": {},
   "outputs": [
    {
     "name": "stderr",
     "output_type": "stream",
     "text": [
      "usage: ipykernel_launcher.py [-h] [--input INPUT] [--algo ALGO]\n",
      "ipykernel_launcher.py: error: unrecognized arguments: -f /Users/jacob/Library/Jupyter/runtime/kernel-2e4daaeb-5e56-422f-8bbd-44cf0f5d95a5.json\n"
     ]
    },
    {
     "ename": "SystemExit",
     "evalue": "2",
     "output_type": "error",
     "traceback": [
      "An exception has occurred, use %tb to see the full traceback.\n",
      "\u001b[0;31mSystemExit\u001b[0m\u001b[0;31m:\u001b[0m 2\n"
     ]
    }
   ],
   "source": [
    "parser = argparse.ArgumentParser(description='This program shows how to use background subtraction methods provided by \\\n",
    "                                              OpenCV. You can process both videos and images.')\n",
    "parser.add_argument('--input', type=str, help='Path to a video or a sequence of image.', default='vtest.avi')\n",
    "parser.add_argument('--algo', type=str, help='Background subtraction method (KNN, MOG2).', default='MOG2')\n",
    "args = parser.parse_args()"
   ]
  },
  {
   "cell_type": "code",
   "execution_count": 6,
   "id": "33538361-a371-440a-b22d-a5a68582fb5d",
   "metadata": {},
   "outputs": [
    {
     "ename": "KeyboardInterrupt",
     "evalue": "",
     "output_type": "error",
     "traceback": [
      "\u001b[0;31m---------------------------------------------------------------------------\u001b[0m",
      "\u001b[0;31mKeyboardInterrupt\u001b[0m                         Traceback (most recent call last)",
      "Cell \u001b[0;32mIn[6], line 39\u001b[0m\n\u001b[1;32m     36\u001b[0m cv\u001b[38;5;241m.\u001b[39mimshow(\u001b[38;5;124m'\u001b[39m\u001b[38;5;124mFG Mask\u001b[39m\u001b[38;5;124m'\u001b[39m, fgMask)\n\u001b[1;32m     37\u001b[0m \u001b[38;5;66;03m## [show]\u001b[39;00m\n\u001b[0;32m---> 39\u001b[0m keyboard \u001b[38;5;241m=\u001b[39m \u001b[43mcv\u001b[49m\u001b[38;5;241;43m.\u001b[39;49m\u001b[43mwaitKey\u001b[49m\u001b[43m(\u001b[49m\u001b[38;5;241;43m30\u001b[39;49m\u001b[43m)\u001b[49m\n\u001b[1;32m     40\u001b[0m \u001b[38;5;28;01mif\u001b[39;00m keyboard \u001b[38;5;241m==\u001b[39m \u001b[38;5;124m'\u001b[39m\u001b[38;5;124mq\u001b[39m\u001b[38;5;124m'\u001b[39m \u001b[38;5;129;01mor\u001b[39;00m keyboard \u001b[38;5;241m==\u001b[39m \u001b[38;5;241m27\u001b[39m:\n\u001b[1;32m     41\u001b[0m     \u001b[38;5;28;01mbreak\u001b[39;00m\n",
      "\u001b[0;31mKeyboardInterrupt\u001b[0m: "
     ]
    }
   ],
   "source": [
    "## [create]\n",
    "#create Background Subtractor objects\n",
    "# if args.algo == 'MOG2':\n",
    "backSub = cv.createBackgroundSubtractorMOG2()\n",
    "# else:\n",
    "#     backSub = cv.createBackgroundSubtractorKNN()\n",
    "# ## [create]\n",
    "\n",
    "## [capture]\n",
    "capture = cv.VideoCapture(0)\n",
    "if not capture.isOpened():\n",
    "    print('Unable to open: ' + args.input)\n",
    "    exit(0)\n",
    "## [capture]\n",
    "\n",
    "while True:\n",
    "    ret, frame = capture.read()\n",
    "    if frame is None:\n",
    "        break\n",
    "\n",
    "    ## [apply]\n",
    "    #update the background model\n",
    "    fgMask = backSub.apply(frame)\n",
    "    ## [apply]\n",
    "\n",
    "    ## [display_frame_number]\n",
    "    #get the frame number and write it on the current frame\n",
    "    cv.rectangle(frame, (10, 2), (100,20), (255,255,255), -1)\n",
    "    cv.putText(frame, str(capture.get(cv.CAP_PROP_POS_FRAMES)), (15, 15),\n",
    "               cv.FONT_HERSHEY_SIMPLEX, 0.5 , (0,0,0))\n",
    "    ## [display_frame_number]\n",
    "\n",
    "    ## [show]\n",
    "    #show the current frame and the fg masks\n",
    "    cv.imshow('Frame', frame)\n",
    "    cv.imshow('FG Mask', fgMask)\n",
    "    ## [show]\n",
    "\n",
    "    keyboard = cv.waitKey(30)\n",
    "    if keyboard == 'q' or keyboard == 27:\n",
    "        break"
   ]
  },
  {
   "cell_type": "code",
   "execution_count": null,
   "id": "c52f46de-6e43-4acb-ba80-4ef1df11d484",
   "metadata": {},
   "outputs": [],
   "source": []
  }
 ],
 "metadata": {
  "kernelspec": {
   "display_name": "PP1.0",
   "language": "python",
   "name": "pp1.0"
  },
  "language_info": {
   "codemirror_mode": {
    "name": "ipython",
    "version": 3
   },
   "file_extension": ".py",
   "mimetype": "text/x-python",
   "name": "python",
   "nbconvert_exporter": "python",
   "pygments_lexer": "ipython3",
   "version": "3.11.8"
  }
 },
 "nbformat": 4,
 "nbformat_minor": 5
}
