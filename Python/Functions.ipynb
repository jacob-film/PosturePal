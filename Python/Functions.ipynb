{
 "cells": [
  {
   "cell_type": "markdown",
   "id": "73291d9b-6d45-43db-a116-1cfe39c791fb",
   "metadata": {},
   "source": [
    "# Functions for Webcam Usage"
   ]
  },
  {
   "cell_type": "markdown",
   "id": "c340ed73-6ff7-4024-a1f8-095ba4383c81",
   "metadata": {},
   "source": [
    "### Imports:"
   ]
  },
  {
   "cell_type": "code",
   "execution_count": 1,
   "id": "a816ebd3-5048-490f-a343-410a4a219d23",
   "metadata": {},
   "outputs": [],
   "source": [
    "import numpy as np\n",
    "import cv2\n",
    "import argparse\n",
    "import time\n",
    "import math\n",
    "import os\n",
    "import sys"
   ]
  },
  {
   "cell_type": "markdown",
   "id": "89c1103f-00a7-4154-8f50-b1cd9e33a390",
   "metadata": {},
   "source": [
    "### Window Release (if needed)"
   ]
  },
  {
   "cell_type": "code",
   "execution_count": 2,
   "id": "07e7e64f-46fe-409b-8aef-d0095ad16c08",
   "metadata": {},
   "outputs": [],
   "source": [
    "# capture.release() \n",
    "# # Destroy all the windows \n",
    "# cv2.destroyAllWindows()\n",
    "# cv2.waitKey(1)"
   ]
  },
  {
   "cell_type": "markdown",
   "id": "6f49b74a-77ef-4686-8788-32ab966f471d",
   "metadata": {},
   "source": [
    "## __Calibrate__"
   ]
  },
  {
   "cell_type": "markdown",
   "id": "805788a8-4fe3-4b8b-8834-a184fdcc4973",
   "metadata": {},
   "source": [
    "Grabs a screenshot of current posture to use as ideal comparison - saves as 'posture_goal.jpg'"
   ]
  },
  {
   "cell_type": "code",
   "execution_count": null,
   "id": "6b09eb2b-7cd6-4923-8a47-b226d2c24754",
   "metadata": {},
   "outputs": [],
   "source": [
    "def calibrate():\n",
    "\n",
    "# we might need to pass this function the capture object?\n",
    "    \n",
    "    # get current window - assumes one is already running\n",
    "\n",
    "    capture = cv2.getCurrentWindow()\n",
    "\n",
    "    # ===================================================\n",
    "    \n",
    "    # grab screenshot and display\n",
    "\n",
    "    ret, frame = capture.read()\n",
    "    posture_goal = frame\n",
    "\n",
    "    cv2.imshow('Posture Goal', posture_goal)\n",
    "    cv2.waitKey(3500)\n",
    "\n",
    "    # destroy goal display window \n",
    "    cv2.destroyWindow('Posture Goal')\n",
    "    cv2.waitKey(1)\n",
    "\n",
    "    # ===================================================    \n",
    "\n",
    "    # save screenshot as posture goal\n",
    "\n",
    "    directory = r'/Users/jacob/Documents/PosturePal/Python'\n",
    "    os.chdir(directory)\n",
    "    cv2.imwrite('posture_goal.jpg', posture_goal)\n",
    "\n"
   ]
  },
  {
   "cell_type": "markdown",
   "id": "610895a1-aea0-4c04-be40-ee340dad150e",
   "metadata": {},
   "source": [
    "## Run Video Feed - Press Key to take Snapshot and Display Countdown"
   ]
  },
  {
   "cell_type": "code",
   "execution_count": 7,
   "id": "ab800647-358e-4c1a-9f41-2a57a993d604",
   "metadata": {},
   "outputs": [],
   "source": [
    "def Snapshot(filename):\n",
    "    \n",
    "    # capture video stream\n",
    "    capture = cv2.VideoCapture(0)\n",
    "\n",
    "    if not capture.isOpened():\n",
    "        print(\"Unable to open the webcam :(\")\n",
    "        sys.exit(0)\n",
    "\n",
    "\n",
    "    # create Window and move to Right Screen\n",
    "    cv2.namedWindow('Video Feed')\n",
    "    cv2.moveWindow('Video Feed', 2000, 50)\n",
    "    cv2.waitKey(1)\n",
    "    \n",
    "    while True:\n",
    "        \n",
    "        ret, frame = capture.read()\n",
    "    \n",
    "        cv2.imshow('Video Feed', frame)\n",
    "        # cv2.moveWindow('Video Feed', 4000, 100)\n",
    "    \n",
    "        key = cv2.pollKey()\n",
    "    \n",
    "        if key < 0:\n",
    "            pass\n",
    "    \n",
    "        elif chr(key) == 's':\n",
    "            print('You want a snapshot!')\n",
    "    \n",
    "            i = 3000\n",
    "            count = 3\n",
    "    \n",
    "            # inner loop to countdown to snapshot\n",
    "            while True:\n",
    "    \n",
    "                ret, frame = capture.read() # grab still image from video feed\n",
    "    \n",
    "                # modify with rectangle and countdown box\n",
    "                countdown = cv2.rectangle(frame, (15, 15), (150, 150), (255, 255, 255), -1)\n",
    "                countdown = cv2.putText(frame, str(count), (40, 125), cv2.FONT_HERSHEY_SIMPLEX, 4, (0, 0, 0), 3)\n",
    "    \n",
    "                # Eventually should use an actual time element to track timing\n",
    "                # Experiencing issues with slowdown - processing speed?\n",
    "                \n",
    "                if i > 1:\n",
    "                    cv2.imshow('Video Feed', countdown)\n",
    "                    cv2.waitKey(50)\n",
    "                    i = i-75\n",
    "                    count = math.ceil(i/1000)\n",
    "                    pass\n",
    "                    \n",
    "                # cv2.imshow('Video Feed', countdown)\n",
    "\n",
    "                # cv2.waitKey(3500)\n",
    "    \n",
    "                else:\n",
    "                    cv2.imshow('Video Feed', countdown)\n",
    "                    cv2.waitKey(3000)\n",
    "                    name = str(filename + \".jpg\")\n",
    "                    directory = r'/Users/jacob/Documents/PosturePal/Python/Snapshots'\n",
    "                    os.chdir(directory)\n",
    "                    cv2.imwrite(name, frame)\n",
    "                    break\n",
    "\n",
    "            break\n",
    "    \n",
    "        elif key > 0:\n",
    "            print(\"Program exited \\n\")\n",
    "            \n",
    "            print(\"You typed: \")\n",
    "            print(chr(key))\n",
    "    \n",
    "            print(\"\\nThat corresponds to a key value of: \")\n",
    "            print(key)\n",
    "    \n",
    "            break\n",
    "    \n",
    "    # After the loop release the cap object \n",
    "    capture.release() \n",
    "    # Destroy all the windows \n",
    "    cv2.destroyAllWindows()\n",
    "    cv2.waitKey(1)"
   ]
  },
  {
   "cell_type": "code",
   "execution_count": 8,
   "id": "b0a749ea-14f6-458a-940d-2e61e64fe77c",
   "metadata": {},
   "outputs": [
    {
     "name": "stdout",
     "output_type": "stream",
     "text": [
      "Program exited \n",
      "\n",
      "You typed: \n",
      "q\n",
      "\n",
      "That corresponds to a key value of: \n",
      "113\n"
     ]
    }
   ],
   "source": [
    "Snapshot(\"New_Photo_1\")"
   ]
  },
  {
   "cell_type": "code",
   "execution_count": null,
   "id": "80904bfc-bedb-4f7a-8862-4955035241ee",
   "metadata": {},
   "outputs": [],
   "source": [
    "    \n",
    "    cv2.waitKey(1)\n",
    "\n",
    "\n",
    "    if cv2.waitKey(1) & 0xFF == ord('q'):\n",
    "    break\n",
    "    \n",
    "    cv2.waitKey(1000) # wait a second before taking photo\n",
    "    if i < 1:\n",
    "        i=i+1\n",
    "        pass\n",
    "\n",
    "    else:\n",
    "        # \"Take the photo\" and display result\n",
    "        cv2.imshow('frame', frame)\n",
    "        cv2.waitKey(3000)\n",
    "        name = str(filename + \".jpg\")\n",
    "        cv2.imwrite(name, frame)\n",
    "\n",
    "        break"
   ]
  },
  {
   "cell_type": "markdown",
   "id": "0d0091b1-9978-44d7-b45d-58ebe2ba0f02",
   "metadata": {},
   "source": [
    "## Capture a screenshot with Webcam"
   ]
  },
  {
   "cell_type": "code",
   "execution_count": 9,
   "id": "113f970d-e500-4b9c-b8e6-7d4c056bc609",
   "metadata": {},
   "outputs": [],
   "source": [
    "# # screenshot\n",
    "\n",
    "# def Snapshot(filename):\n",
    "\n",
    "#     # turn on video stream\n",
    "#     capture = cv2.VideoCapture(0)\n",
    "    \n",
    "#     i = 0\n",
    "#     while True:\n",
    "        \n",
    "#         ret, frame = capture.read()\n",
    "#         cv2.waitKey(1000) # wait a second before taking photo\n",
    "#         if i < 1:\n",
    "#             i=i+1\n",
    "#             pass\n",
    "    \n",
    "#         else:\n",
    "#             # \"Take the photo\" and display result\n",
    "#             cv2.imshow('frame', frame)\n",
    "#             cv2.waitKey(3000)\n",
    "#             name = str(filename + \".jpg\")\n",
    "#             cv2.imwrite(name, frame)\n",
    "    \n",
    "#             break\n",
    "    \n",
    "#     # After the loop release the cap object \n",
    "#     capture.release() \n",
    "#     # Destroy all the windows \n",
    "#     cv2.destroyAllWindows()\n",
    "#     cv2.waitKey(1)\n"
   ]
  },
  {
   "cell_type": "code",
   "execution_count": 10,
   "id": "579d8705-69e0-4ae1-b825-a6e770cc975c",
   "metadata": {},
   "outputs": [],
   "source": [
    "# Snapshot(\"Cheesin\")"
   ]
  },
  {
   "cell_type": "code",
   "execution_count": null,
   "id": "b9a04da8-eeb7-40e8-a8b4-f2e114360a50",
   "metadata": {},
   "outputs": [],
   "source": [
    "capture = cv2.VideoCapture(0)\n",
    "\n",
    "# quitter = False\n",
    "\n",
    "while True:\n",
    "    \n",
    "    # Capture the video frame by frame \n",
    "    ret, frame = capture.read()\n",
    "    \n",
    "    # Display the resulting frame \n",
    "    cv2.imshow('frame', frame) \n",
    "\n",
    "    if cv2.waitKey(0):\n",
    "        value == ord\n",
    "        if 0xFF == ord('u'):\n",
    "            pass\n",
    "\n",
    "        elif 0xFF == ord('q'):\n",
    "            break\n",
    "\n",
    "        else:\n",
    "            pass\n",
    "    \n",
    "    # # the 'q' button is set as the quitting button you may use any desired button of your choice \n",
    "    # if cv2.waitKey(1) & 0xFF == ord('q'):\n",
    "    #     quitter = True\n",
    "\n",
    "    # if cv2.waitKey(0) & 0xFF == ord('q'): # Uses specific Key\n",
    "\n",
    "# After the loop release the cap object \n",
    "capture.release() \n",
    "# Destroy all the windows \n",
    "cv2.destroyAllWindows()\n",
    "cv2.waitKey(1)\n",
    "\n"
   ]
  },
  {
   "cell_type": "code",
   "execution_count": null,
   "id": "182ee99a-c221-4c18-a59e-1e4953c06c0d",
   "metadata": {},
   "outputs": [],
   "source": [
    "try:\n",
    "    img_1 = cv2.imread(\"HW2_image1.jpg\", cv2.IMREAD_COLOR)\n",
    "    img_2 = cv2.imread(\"HW2_image2.jpg\", cv2.IMREAD_COLOR)\n",
    "\n",
    "except IOError:\n",
    "    pass"
   ]
  },
  {
   "cell_type": "code",
   "execution_count": 4,
   "id": "cda384e6-666a-4e6c-b583-61af05951fb8",
   "metadata": {},
   "outputs": [
    {
     "ename": "KeyboardInterrupt",
     "evalue": "",
     "output_type": "error",
     "traceback": [
      "\u001b[0;31m---------------------------------------------------------------------------\u001b[0m",
      "\u001b[0;31mKeyboardInterrupt\u001b[0m                         Traceback (most recent call last)",
      "Cell \u001b[0;32mIn[4], line 2\u001b[0m\n\u001b[1;32m      1\u001b[0m \u001b[38;5;28;01mwhile\u001b[39;00m \u001b[38;5;28;01mTrue\u001b[39;00m:\n\u001b[0;32m----> 2\u001b[0m     keyboard \u001b[38;5;241m=\u001b[39m \u001b[43mcv2\u001b[49m\u001b[38;5;241;43m.\u001b[39;49m\u001b[43mwaitKey\u001b[49m\u001b[43m(\u001b[49m\u001b[38;5;241;43m2000\u001b[39;49m\u001b[43m)\u001b[49m\n\u001b[1;32m      3\u001b[0m     \u001b[38;5;28;01mif\u001b[39;00m keyboard \u001b[38;5;241m==\u001b[39m \u001b[38;5;124m'\u001b[39m\u001b[38;5;124mq\u001b[39m\u001b[38;5;124m'\u001b[39m \u001b[38;5;129;01mor\u001b[39;00m keyboard \u001b[38;5;241m==\u001b[39m \u001b[38;5;241m27\u001b[39m:\n\u001b[1;32m      4\u001b[0m         \u001b[38;5;28;01mbreak\u001b[39;00m\n",
      "\u001b[0;31mKeyboardInterrupt\u001b[0m: "
     ]
    }
   ],
   "source": [
    "while True:\n",
    "    keyboard = cv2.waitKey(2000)\n",
    "    if keyboard == 'q' or keyboard == 27:\n",
    "        break"
   ]
  },
  {
   "cell_type": "code",
   "execution_count": 3,
   "id": "51c88283-ed38-4d91-96da-52d5902eb7c3",
   "metadata": {},
   "outputs": [
    {
     "name": "stdout",
     "output_type": "stream",
     "text": [
      "-1\n"
     ]
    }
   ],
   "source": [
    "print(keyboard)"
   ]
  },
  {
   "cell_type": "markdown",
   "id": "91b335bf-bf61-4dc0-821f-1a55a1398e48",
   "metadata": {},
   "source": [
    "Gray Scale Code Stuff"
   ]
  },
  {
   "cell_type": "code",
   "execution_count": null,
   "id": "11c3f429-d1a9-44cf-870c-419815a4f7ce",
   "metadata": {},
   "outputs": [],
   "source": [
    "\n",
    "cap = cv2.VideoCapture(0)\n",
    "\n",
    "while True:\n",
    "    ret, frame = cap.read()\n",
    "    # gray = cv2.cvtColor(frame, cv2.COLOR_BGR2GRAY)\n",
    "\n",
    "    cv2.imshow('frame',frame)\n",
    "    # cv2.imshow('gray',gray)\n",
    "\n",
    "    if cv2.waitKey(1) & 0xFF == ord('q'):\n",
    "        break\n",
    "\n",
    "cap.release()\n",
    "cv2.destroyAllWindows()\n",
    "cv2.waitKey(1)"
   ]
  }
 ],
 "metadata": {
  "kernelspec": {
   "display_name": "PP1.0",
   "language": "python",
   "name": "pp1.0"
  },
  "language_info": {
   "codemirror_mode": {
    "name": "ipython",
    "version": 3
   },
   "file_extension": ".py",
   "mimetype": "text/x-python",
   "name": "python",
   "nbconvert_exporter": "python",
   "pygments_lexer": "ipython3",
   "version": "3.11.8"
  }
 },
 "nbformat": 4,
 "nbformat_minor": 5
}
